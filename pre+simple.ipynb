{
 "metadata": {
  "language_info": {
   "codemirror_mode": {
    "name": "ipython",
    "version": 3
   },
   "file_extension": ".py",
   "mimetype": "text/x-python",
   "name": "python",
   "nbconvert_exporter": "python",
   "pygments_lexer": "ipython3",
   "version": "3.8.5"
  },
  "orig_nbformat": 4,
  "kernelspec": {
   "name": "python3",
   "display_name": "Python 3.8.5 64-bit ('base': conda)"
  },
  "interpreter": {
   "hash": "dca0ade3e726a953b501b15e8e990130d2b7799f14cfd9f4271676035ebe5511"
  }
 },
 "nbformat": 4,
 "nbformat_minor": 2,
 "cells": [
  {
   "cell_type": "code",
   "execution_count": 137,
   "metadata": {},
   "outputs": [
    {
     "output_type": "stream",
     "name": "stderr",
     "text": [
      "[nltk_data] Downloading package wordnet to\n[nltk_data]     /Users/jiezhang/nltk_data...\n[nltk_data]   Package wordnet is already up-to-date!\n"
     ]
    },
    {
     "output_type": "execute_result",
     "data": {
      "text/plain": [
       "True"
      ]
     },
     "metadata": {},
     "execution_count": 137
    }
   ],
   "source": [
    "import pandas as pd\n",
    "import numpy as np\n",
    "import nltk\n",
    "nltk.download('wordnet')"
   ]
  },
  {
   "cell_type": "code",
   "execution_count": 138,
   "metadata": {},
   "outputs": [],
   "source": [
    "data_ori=pd.read_csv(\"fine_data.csv\")\n",
    "data_ori=data_ori.sample(frac=1).reset_index(drop=True)"
   ]
  },
  {
   "cell_type": "code",
   "execution_count": 139,
   "metadata": {},
   "outputs": [
    {
     "output_type": "stream",
     "name": "stdout",
     "text": [
      "                                                             filename  \\\n0  PoetryPoemsAgainstTheDispraisersOfPoetryPoembyRichardBarnfield.txt   \n1               FuturePoemsTheFutureIsNotOursToSeePoembyAldoKraas.txt   \n2            BelievePoemsDoYouBelieveInFairiesPoembyJaniceWalkden.txt   \n\n  original_tag  \\\n0       poetry   \n1       future   \n2      believe   \n\n                                                                                                                                                    poem  \\\n0  ['Chaucer is dead; and Gower lies in grave;', 'The Earl of Surrey long ago is gone;', \"Sir Philip Sidney's soul the heavens have;\", 'George Gascoi...   \n1                                          ['The future is not ours to see', 'Whatever the future', 'Bring to us', 'We should be garateful', 'For that']   \n2  ['Do you believe in fairies?', 'Could fairies really exist?', 'Do they live in flowers & gardens?', 'Do they play in the morning mists?', 'Do they...   \n\n  our_tag  \n0     art  \n1   other  \n2   other  \n"
     ]
    }
   ],
   "source": [
    "print(data_ori.head(3))\n",
    "#dfF=df[['star_rating','review_body']]\n",
    "#dfprint=dfF.sample(n=3)"
   ]
  },
  {
   "cell_type": "code",
   "execution_count": 140,
   "metadata": {},
   "outputs": [
    {
     "output_type": "stream",
     "name": "stdout",
     "text": [
      "                                                                                                                                                    poem  \\\n",
      "0  ['chaucer is dead; and gower lies in grave;', 'the earl of surrey long ago is gone;', \"sir philip sidney's soul the heavens have;\", 'george gascoi...   \n",
      "1                                          ['the future is not ours to see', 'whatever the future', 'bring to us', 'we should be garateful', 'for that']   \n",
      "2  ['do you believe in fairies?', 'could fairies really exist?', 'do they live in flowers & gardens?', 'do they play in the morning mists?', 'do they...   \n",
      "3  ['the nights have grown cool again, like the nights', 'of early spring, and quiet again. will', \"speech disturb you? we're\", 'alone now; we have n...   \n",
      "4  ['he is serving three years for armed robbery but the mother says my son is not a crim', 'he is not the one who robbed the uptown drug store for s...   \n",
      "5  ['this is for every girl that has gossiped about me.', 'this is for every boy that has ever broken my heart.', 'this is for all the friends that i...   \n",
      "6  ['warning bells', 'reaching for that bottle, your hand on that throttle,', 'getting ready to ride without a guide,', 'down that road, that road to...   \n",
      "7  ['like the lonely winter tree', 'outstretched branches with never any leaves', 'lonely skeletons, with lonely smiles', 'they look away while tryin...   \n",
      "8  ['we catch a glimpse of it, gaunt and gray,', 'when the golden sunbeams are all abroad;', 'we sober a moment, then softly say:', 'the world still ...   \n",
      "9  ['nice to be an animal', 'free from worry and care', 'no possessions', 'no clothes to wear', 'no toothbrush or comb', 'sleep anywhere', 'no clock ...   \n",
      "\n",
      "    our_tag  \n",
      "0       art  \n",
      "1     other  \n",
      "2     other  \n",
      "3     other  \n",
      "4  relation  \n",
      "5   emotion  \n",
      "6     other  \n",
      "7   romance  \n",
      "8   emotion  \n",
      "9    travel  \n",
      "<ipython-input-140-85ca32730ade>:3: SettingWithCopyWarning: \n",
      "A value is trying to be set on a copy of a slice from a DataFrame.\n",
      "Try using .loc[row_indexer,col_indexer] = value instead\n",
      "\n",
      "See the caveats in the documentation: https://pandas.pydata.org/pandas-docs/stable/user_guide/indexing.html#returning-a-view-versus-a-copy\n",
      "  data_pt[\"poem\"]=data_pt[\"poem\"].str.lower()\n"
     ]
    }
   ],
   "source": [
    "pd.set_option('max_colwidth',150)\n",
    "data_pt=data_ori[[\"poem\",\"our_tag\"]]\n",
    "data_pt[\"poem\"]=data_pt[\"poem\"].str.lower()\n",
    "print(data_pt.head(10))"
   ]
  },
  {
   "cell_type": "code",
   "execution_count": 141,
   "metadata": {},
   "outputs": [
    {
     "output_type": "stream",
     "name": "stdout",
     "text": [
      "total number poem:  14236\n['the future is not ours to see', 'whatever the future', 'bring to us', 'we should be garateful', 'for that']\n"
     ]
    }
   ],
   "source": [
    "total_poem=len(data_pt[\"poem\"])\n",
    "print(\"total number poem: \", total_poem)\n",
    "poem_content=data_pt[\"poem\"].tolist()\n",
    "print(poem_content[1])"
   ]
  },
  {
   "cell_type": "code",
   "execution_count": 142,
   "metadata": {},
   "outputs": [
    {
     "output_type": "stream",
     "name": "stdout",
     "text": [
      "['the future is not ours to see', 'whatever the future', 'bring to us', 'we should be garateful', 'for that']\nthe future is not ours to see whatever the future bring to us we should be garateful for that\n"
     ]
    }
   ],
   "source": [
    "hold=poem_content[1]\n",
    "print(hold)\n",
    "hold=hold[1:len(hold)-1]\n",
    "hold=hold.replace(\"\\\"\",\"\")\n",
    "\n",
    "hold=hold.split(\",\")\n",
    "for i in range(len(hold)):\n",
    "    hold[i]=hold[i].strip(\" \")\n",
    "    hold[i]=hold[i].strip(\"'\")\n",
    "poem_str=\"\"\n",
    "for ele in hold:\n",
    "    poem_str+=\" \"+ele\n",
    "print(poem_str[1:][2])"
   ]
  },
  {
   "cell_type": "code",
   "execution_count": 143,
   "metadata": {},
   "outputs": [
    {
     "output_type": "stream",
     "name": "stdout",
     "text": [
      "the future is not ours to see whatever the future bring to us we should be garateful for that\n"
     ]
    }
   ],
   "source": [
    "def clean(gg):\n",
    "    gg=gg[1:len(gg)-1]\n",
    "    gg=gg.replace(\"\\\"\",\"\")\n",
    "\n",
    "    gg=gg.split(\",\")\n",
    "    for i in range(len(gg)):\n",
    "        gg[i]=gg[i].strip(\" \")\n",
    "        gg[i]=gg[i].strip(\"'\")\n",
    "    poem_str=\"\"\n",
    "    for ele in gg:\n",
    "        poem_str+=\" \"+ele\n",
    "    return poem_str[1:]\n",
    "print(clean(poem_content[1]))"
   ]
  },
  {
   "cell_type": "code",
   "execution_count": 144,
   "metadata": {},
   "outputs": [
    {
     "output_type": "stream",
     "name": "stdout",
     "text": [
      "                                                                                                                                                    poem  \\\n",
      "0  chaucer is dead; and gower lies in grave; the earl of surrey long ago is gone; sir philip sidney's soul the heavens have; george gascoigne him bef...   \n",
      "1                                                          the future is not ours to see whatever the future bring to us we should be garateful for that   \n",
      "2  do you believe in fairies? could fairies really exist? do they live in flowers & gardens? do they play in the morning mists? do they tend to natur...   \n",
      "3  the nights have grown cool again like the nights of early spring and quiet again. will speech disturb you? we're alone now; we have no reason for ...   \n",
      "4  he is serving three years for armed robbery but the mother says my son is not a crim he is not the one who robbed the uptown drug store for someon...   \n",
      "5  this is for every girl that has gossiped about me. this is for every boy that has ever broken my heart. this is for all the friends that i thought...   \n",
      "6  warning bells reaching for that bottle your hand on that throttle  getting ready to ride without a guide  down that road that road to hell. wake u...   \n",
      "7  like the lonely winter tree outstretched branches with never any leaves lonely skeletons with lonely smiles they look away while trying to hide th...   \n",
      "8  we catch a glimpse of it gaunt and gray  when the golden sunbeams are all abroad; we sober a moment then softly say: the world still lies in the h...   \n",
      "9  nice to be an animal free from worry and care no possessions no clothes to wear no toothbrush or comb sleep anywhere no clock to watch nor time to...   \n",
      "\n",
      "    our_tag  \n",
      "0       art  \n",
      "1     other  \n",
      "2     other  \n",
      "3     other  \n",
      "4  relation  \n",
      "5   emotion  \n",
      "6     other  \n",
      "7   romance  \n",
      "8   emotion  \n",
      "9    travel  \n",
      "<ipython-input-144-d5c000c846f5>:3: SettingWithCopyWarning: \n",
      "A value is trying to be set on a copy of a slice from a DataFrame.\n",
      "Try using .loc[row_indexer,col_indexer] = value instead\n",
      "\n",
      "See the caveats in the documentation: https://pandas.pydata.org/pandas-docs/stable/user_guide/indexing.html#returning-a-view-versus-a-copy\n",
      "  data_pt[\"poem\"]=poem_content\n"
     ]
    }
   ],
   "source": [
    "for i in range(len(poem_content)):\n",
    "    poem_content[i]=clean(poem_content[i])\n",
    "data_pt[\"poem\"]=poem_content\n",
    "print(data_pt.head(10))\n"
   ]
  },
  {
   "cell_type": "code",
   "execution_count": 145,
   "metadata": {},
   "outputs": [
    {
     "output_type": "stream",
     "name": "stderr",
     "text": [
      "<ipython-input-145-755adb6dea8b>:2: SettingWithCopyWarning: \n",
      "A value is trying to be set on a copy of a slice from a DataFrame.\n",
      "Try using .loc[row_indexer,col_indexer] = value instead\n",
      "\n",
      "See the caveats in the documentation: https://pandas.pydata.org/pandas-docs/stable/user_guide/indexing.html#returning-a-view-versus-a-copy\n",
      "  data_pt['poem'] = data_pt['poem'].replace('http\\S*','',regex=True)\n",
      "<ipython-input-145-755adb6dea8b>:3: SettingWithCopyWarning: \n",
      "A value is trying to be set on a copy of a slice from a DataFrame.\n",
      "Try using .loc[row_indexer,col_indexer] = value instead\n",
      "\n",
      "See the caveats in the documentation: https://pandas.pydata.org/pandas-docs/stable/user_guide/indexing.html#returning-a-view-versus-a-copy\n",
      "  data_pt['poem'] = data_pt['poem'].replace('<[^>]*>','',regex=True)\n",
      "<ipython-input-145-755adb6dea8b>:5: SettingWithCopyWarning: \n",
      "A value is trying to be set on a copy of a slice from a DataFrame.\n",
      "Try using .loc[row_indexer,col_indexer] = value instead\n",
      "\n",
      "See the caveats in the documentation: https://pandas.pydata.org/pandas-docs/stable/user_guide/indexing.html#returning-a-view-versus-a-copy\n",
      "  data_pt['poem'] = data_pt['poem'].replace('[^\\w\\s\\']+','',regex=True)\n",
      "<ipython-input-145-755adb6dea8b>:6: SettingWithCopyWarning: \n",
      "A value is trying to be set on a copy of a slice from a DataFrame.\n",
      "Try using .loc[row_indexer,col_indexer] = value instead\n",
      "\n",
      "See the caveats in the documentation: https://pandas.pydata.org/pandas-docs/stable/user_guide/indexing.html#returning-a-view-versus-a-copy\n",
      "  data_pt['poem'] = data_pt['poem'].replace('\\d*','',regex=True)\n",
      "0    chaucer is dead and gower lies in grave the earl of surrey long ago is gone sir philip sidney's soul the heavens have george gascoigne him before ...\n",
      "1                                                            the future is not ours to see whatever the future bring to us we should be garateful for that\n",
      "2    do you believe in fairies could fairies really exist do they live in flowers gardens do they play in the morning mists do they tend to nature with...\n",
      "3    the nights have grown cool again like the nights of early spring and quiet again will speech disturb you we're alone now we have no reason for sil...\n",
      "4    he is serving three years for armed robbery but the mother says my son is not a crim he is not the one who robbed the uptown drug store for someon...\n",
      "5    this is for every girl that has gossiped about me this is for every boy that has ever broken my heart this is for all the friends that i thought i...\n",
      "6    warning bells reaching for that bottle your hand on that throttle getting ready to ride without a guide down that road that road to hell wake up b...\n",
      "7    like the lonely winter tree outstretched branches with never any leaves lonely skeletons with lonely smiles they look away while trying to hide th...\n",
      "8    we catch a glimpse of it gaunt and gray when the golden sunbeams are all abroad we sober a moment then softly say the world still lies in the hand...\n",
      "9    nice to be an animal free from worry and care no possessions no clothes to wear no toothbrush or comb sleep anywhere no clock to watch nor time to...\n",
      "Name: poem, dtype: object\n",
      "<ipython-input-145-755adb6dea8b>:8: SettingWithCopyWarning: \n",
      "A value is trying to be set on a copy of a slice from a DataFrame.\n",
      "Try using .loc[row_indexer,col_indexer] = value instead\n",
      "\n",
      "See the caveats in the documentation: https://pandas.pydata.org/pandas-docs/stable/user_guide/indexing.html#returning-a-view-versus-a-copy\n",
      "  data_pt['poem'] = data_pt['poem'].replace(' {2,}',' ',regex=True)\n",
      "<ipython-input-145-755adb6dea8b>:9: SettingWithCopyWarning: \n",
      "A value is trying to be set on a copy of a slice from a DataFrame.\n",
      "Try using .loc[row_indexer,col_indexer] = value instead\n",
      "\n",
      "See the caveats in the documentation: https://pandas.pydata.org/pandas-docs/stable/user_guide/indexing.html#returning-a-view-versus-a-copy\n",
      "  data_pt['poem'] = data_pt['poem'].replace('^\\s*','',regex=True)\n"
     ]
    }
   ],
   "source": [
    "# remove URL\n",
    "data_pt['poem'] = data_pt['poem'].replace('http\\S*','',regex=True)\n",
    "data_pt['poem'] = data_pt['poem'].replace('<[^>]*>','',regex=True)\n",
    "#remove non-alphabite\n",
    "data_pt['poem'] = data_pt['poem'].replace('[^\\w\\s\\']+','',regex=True)\n",
    "data_pt['poem'] = data_pt['poem'].replace('\\d*','',regex=True)\n",
    "#remove extra space\n",
    "data_pt['poem'] = data_pt['poem'].replace(' {2,}',' ',regex=True)\n",
    "data_pt['poem'] = data_pt['poem'].replace('^\\s*','',regex=True)\n",
    "\n",
    "print(data_pt['poem'].head(10))"
   ]
  },
  {
   "cell_type": "code",
   "execution_count": 146,
   "metadata": {},
   "outputs": [
    {
     "output_type": "stream",
     "name": "stderr",
     "text": [
      "<ipython-input-146-1b83f935a3a7>:2: SettingWithCopyWarning: \n",
      "A value is trying to be set on a copy of a slice from a DataFrame.\n",
      "Try using .loc[row_indexer,col_indexer] = value instead\n",
      "\n",
      "See the caveats in the documentation: https://pandas.pydata.org/pandas-docs/stable/user_guide/indexing.html#returning-a-view-versus-a-copy\n",
      "  s['poem'] = s['poem'].replace('\\'ll',' will',regex=True)\n",
      "<ipython-input-146-1b83f935a3a7>:3: SettingWithCopyWarning: \n",
      "A value is trying to be set on a copy of a slice from a DataFrame.\n",
      "Try using .loc[row_indexer,col_indexer] = value instead\n",
      "\n",
      "See the caveats in the documentation: https://pandas.pydata.org/pandas-docs/stable/user_guide/indexing.html#returning-a-view-versus-a-copy\n",
      "  s['poem'] = s['poem'].replace('\\'ve',' have',regex=True)\n",
      "                                                                                                                                                    poem  \\\n",
      "0  chaucer is dead and gower lies in grave the earl of surrey long ago is gone sir philip sidney is soul the heavens have george gascoigne him before...   \n",
      "1                                                          the future is not ours to see whatever the future bring to us we should be garateful for that   \n",
      "2  do you believe in fairies could fairies really exist do they live in flowers gardens do they play in the morning mists do they tend to nature with...   \n",
      "\n",
      "  our_tag  \n",
      "0     art  \n",
      "1   other  \n",
      "2   other  \n",
      "<ipython-input-146-1b83f935a3a7>:4: SettingWithCopyWarning: \n",
      "A value is trying to be set on a copy of a slice from a DataFrame.\n",
      "Try using .loc[row_indexer,col_indexer] = value instead\n",
      "\n",
      "See the caveats in the documentation: https://pandas.pydata.org/pandas-docs/stable/user_guide/indexing.html#returning-a-view-versus-a-copy\n",
      "  s['poem'] = s['poem'].replace('\\'s',' is',regex=True)\n",
      "<ipython-input-146-1b83f935a3a7>:5: SettingWithCopyWarning: \n",
      "A value is trying to be set on a copy of a slice from a DataFrame.\n",
      "Try using .loc[row_indexer,col_indexer] = value instead\n",
      "\n",
      "See the caveats in the documentation: https://pandas.pydata.org/pandas-docs/stable/user_guide/indexing.html#returning-a-view-versus-a-copy\n",
      "  s['poem'] = s['poem'].replace('\\'m',' am',regex=True)\n",
      "<ipython-input-146-1b83f935a3a7>:6: SettingWithCopyWarning: \n",
      "A value is trying to be set on a copy of a slice from a DataFrame.\n",
      "Try using .loc[row_indexer,col_indexer] = value instead\n",
      "\n",
      "See the caveats in the documentation: https://pandas.pydata.org/pandas-docs/stable/user_guide/indexing.html#returning-a-view-versus-a-copy\n",
      "  s['poem'] = s['poem'].replace('\\'t',' not',regex=True)\n",
      "<ipython-input-146-1b83f935a3a7>:7: SettingWithCopyWarning: \n",
      "A value is trying to be set on a copy of a slice from a DataFrame.\n",
      "Try using .loc[row_indexer,col_indexer] = value instead\n",
      "\n",
      "See the caveats in the documentation: https://pandas.pydata.org/pandas-docs/stable/user_guide/indexing.html#returning-a-view-versus-a-copy\n",
      "  s['poem'] = s['poem'].replace('\\'re',' are',regex=True)\n",
      "<ipython-input-146-1b83f935a3a7>:8: SettingWithCopyWarning: \n",
      "A value is trying to be set on a copy of a slice from a DataFrame.\n",
      "Try using .loc[row_indexer,col_indexer] = value instead\n",
      "\n",
      "See the caveats in the documentation: https://pandas.pydata.org/pandas-docs/stable/user_guide/indexing.html#returning-a-view-versus-a-copy\n",
      "  s['poem'] = s['poem'].replace('\\'d',' would',regex=True)\n"
     ]
    }
   ],
   "source": [
    "def contractionfunction(s):\n",
    "    s['poem'] = s['poem'].replace('\\'ll',' will',regex=True)\n",
    "    s['poem'] = s['poem'].replace('\\'ve',' have',regex=True)\n",
    "    s['poem'] = s['poem'].replace('\\'s',' is',regex=True)\n",
    "    s['poem'] = s['poem'].replace('\\'m',' am',regex=True)\n",
    "    s['poem'] = s['poem'].replace('\\'t',' not',regex=True)\n",
    "    s['poem'] = s['poem'].replace('\\'re',' are',regex=True)\n",
    "    s['poem'] = s['poem'].replace('\\'d',' would',regex=True)\n",
    "    return s\n",
    "data_pt_clean=contractionfunction(data_pt)\n",
    "print(data_pt_clean.head(3))"
   ]
  },
  {
   "cell_type": "code",
   "execution_count": 147,
   "metadata": {},
   "outputs": [
    {
     "output_type": "stream",
     "name": "stderr",
     "text": [
      "[nltk_data] Downloading package stopwords to\n",
      "[nltk_data]     /Users/jiezhang/nltk_data...\n",
      "[nltk_data]   Package stopwords is already up-to-date!\n",
      "                                                                                                                                                    poem  \\\n",
      "0  [chaucer, dead, gower, lies, grave, earl, surrey, long, ago, gone, sir, philip, sidney, soul, heavens, george, gascoigne, tombed, stone, yet, thou...   \n",
      "1                                                                                                  [future, see, whatever, future, bring, us, garateful]   \n",
      "2  [believe, fairies, could, fairies, really, exist, live, flowers, gardens, play, morning, mists, tend, nature, loving, healing, care, fly, forests,...   \n",
      "\n",
      "  our_tag  \n",
      "0     art  \n",
      "1   other  \n",
      "2   other  \n",
      "<ipython-input-147-d243c7b5cee4>:7: SettingWithCopyWarning: \n",
      "A value is trying to be set on a copy of a slice from a DataFrame.\n",
      "Try using .loc[row_indexer,col_indexer] = value instead\n",
      "\n",
      "See the caveats in the documentation: https://pandas.pydata.org/pandas-docs/stable/user_guide/indexing.html#returning-a-view-versus-a-copy\n",
      "  data_pt_clean['poem']=data_pt_clean['poem'].apply(lambda x: [item for item in str(x).split() if item not in stop])\n"
     ]
    }
   ],
   "source": [
    "#remove stop word\n",
    "\n",
    "from nltk.corpus import stopwords\n",
    "nltk.download('stopwords')\n",
    "stop = stopwords.words('english')\n",
    "#print(stop)\n",
    "data_pt_clean['poem']=data_pt_clean['poem'].apply(lambda x: [item for item in str(x).split() if item not in stop])\n",
    "\n",
    "print(data_pt_clean.head(3))\n"
   ]
  },
  {
   "cell_type": "code",
   "execution_count": 148,
   "metadata": {},
   "outputs": [
    {
     "output_type": "stream",
     "name": "stdout",
     "text": [
      "sample review after data clean and preprogress\n",
      "                                                                                                                                                    poem  \\\n",
      "0  [chaucer, dead, gower, lie, grave, earl, surrey, long, ago, gone, sir, philip, sidney, soul, heaven, george, gascoigne, tombed, stone, yet, though...   \n",
      "1                                                                                                   [future, see, whatever, future, bring, u, garateful]   \n",
      "2  [believe, fairy, could, fairy, really, exist, live, flower, garden, play, morning, mist, tend, nature, loving, healing, care, fly, forest, would, ...   \n",
      "\n",
      "  our_tag  \n",
      "0     art  \n",
      "1   other  \n",
      "2   other  \n",
      "<ipython-input-148-c2df2c897195>:12: SettingWithCopyWarning: \n",
      "A value is trying to be set on a copy of a slice from a DataFrame.\n",
      "Try using .loc[row_indexer,col_indexer] = value instead\n",
      "\n",
      "See the caveats in the documentation: https://pandas.pydata.org/pandas-docs/stable/user_guide/indexing.html#returning-a-view-versus-a-copy\n",
      "  data_pt_clean['poem']=data_pt_clean['poem'].apply(lemmatize_text)\n"
     ]
    }
   ],
   "source": [
    "#perform lemmatization\n",
    "from nltk.stem import WordNetLemmatizer\n",
    "\n",
    "w_tokenizer = nltk.tokenize.WhitespaceTokenizer()\n",
    "\n",
    "def lemmatize_text(text):\n",
    "    lemmatizer = WordNetLemmatizer()\n",
    "    \n",
    "    return [lemmatizer.lemmatize(w,'n') for w in text]\n",
    "\n",
    "\n",
    "data_pt_clean['poem']=data_pt_clean['poem'].apply(lemmatize_text)\n",
    "\n",
    "print(\"sample review after data clean and preprogress\")\n",
    "print(data_pt_clean.head(3))"
   ]
  },
  {
   "cell_type": "code",
   "execution_count": 149,
   "metadata": {},
   "outputs": [
    {
     "output_type": "stream",
     "name": "stderr",
     "text": [
      "<ipython-input-149-8f384fa01ffa>:5: SettingWithCopyWarning: \n",
      "A value is trying to be set on a copy of a slice from a DataFrame.\n",
      "Try using .loc[row_indexer,col_indexer] = value instead\n",
      "\n",
      "See the caveats in the documentation: https://pandas.pydata.org/pandas-docs/stable/user_guide/indexing.html#returning-a-view-versus-a-copy\n",
      "  data_pt_clean[\"our_tag\"]=tags\n",
      "<ipython-input-149-8f384fa01ffa>:10: SettingWithCopyWarning: \n",
      "A value is trying to be set on a copy of a slice from a DataFrame.\n",
      "Try using .loc[row_indexer,col_indexer] = value instead\n",
      "\n",
      "See the caveats in the documentation: https://pandas.pydata.org/pandas-docs/stable/user_guide/indexing.html#returning-a-view-versus-a-copy\n",
      "  data_pt_clean['poem']=data_pt_clean['poem'].apply(', '.join)\n"
     ]
    }
   ],
   "source": [
    "tag_dic={\"emotion\":1,\"relation\":2,\"location\":3,\"other\":4,\"art\":5,\"romance\":6,\"travel\":7}\n",
    "tags=data_pt_clean[\"our_tag\"].tolist()\n",
    "for i in range(len(tags)):\n",
    "    tags[i]=tag_dic[tags[i]]\n",
    "data_pt_clean[\"our_tag\"]=tags\n",
    "\n",
    "#for word2vec use\n",
    "data_word2vec=data_pt_clean.copy(deep=True)\n",
    "\n",
    "data_pt_clean['poem']=data_pt_clean['poem'].apply(', '.join)"
   ]
  },
  {
   "cell_type": "code",
   "execution_count": 76,
   "metadata": {},
   "outputs": [
    {
     "output_type": "stream",
     "name": "stdout",
     "text": [
      "(14236, 10440)\n"
     ]
    }
   ],
   "source": [
    "#Get TF-IDF\n",
    "\n",
    "\n",
    "from nltk.text import TextCollection\n",
    "from sklearn.feature_extraction.text import TfidfVectorizer\n",
    "\n",
    " #corpus = TextCollection(dfTrain['review_body'])\n",
    "\n",
    "v = TfidfVectorizer(min_df=10)\n",
    "\n",
    "\n",
    "x = v.fit_transform(data_pt_clean[\"poem\"])\n",
    "\n",
    "print(x.shape)"
   ]
  },
  {
   "cell_type": "code",
   "execution_count": 78,
   "metadata": {},
   "outputs": [
    {
     "output_type": "stream",
     "name": "stdout",
     "text": [
      "799.6220146108458\n",
      "Train accuracy:  0.9574615384615385\n",
      "Test accuracy:  0.5137540453074434\n"
     ]
    }
   ],
   "source": [
    "#Perceptron\n",
    "total=0\n",
    "for rows in data_pt_clean['poem']:\n",
    "    total=total+len(str(rows))\n",
    "from collections import Counter\n",
    "\n",
    "\n",
    "def dataOutput(model,corpus,features):\n",
    "  predict=model.predict(features)\n",
    "  TPData=predict+corpus['out_tag']\n",
    "  TP=TPData.value_counts()[2]\n",
    "  \n",
    "  precision=TP/Counter(predict)[1]\n",
    "  recall=TP/corpus[\"our_tag\"].value_counts()[1]\n",
    "  F1=2*precision*recall/(precision+recall)\n",
    "  return precision,recall,F1\n",
    "\n",
    "print(total/14236)\n",
    "from sklearn.linear_model import Perceptron\n",
    "\n",
    "data_Train=data_pt_clean[0:13000]\n",
    "data_Test=data_pt_clean[13000:]\n",
    "\n",
    "\n",
    "\n",
    "xTrain=x[0:13000]\n",
    "xTest=x[13000:]\n",
    "\n",
    "\n",
    "\n",
    "clf=Perceptron(fit_intercept=False, shuffle=False)\n",
    "clf.fit(xTrain,data_Train['our_tag'])\n",
    "\n",
    "\n",
    "Taccuracy=clf.score(xTrain,data_Train['our_tag'])\n",
    "print(\"Train accuracy: \", Taccuracy)\n",
    "\n",
    "accuracy=clf.score(xTest,data_Test['our_tag'])\n",
    "print(\"Test accuracy: \", accuracy)\n",
    "#Pprecision,Precall,PF1=dataOutput(clf,data_Test,xTest)\n",
    "\n",
    "\n",
    "#Tprecision,Trecall,TF1=dataOutput(clf,data_Train,xTrain)\n",
    "\n",
    "#print(\"In Perceptron, For Train data. Accuracy: \",Taccuracy,\" Precision: \",Tprecision,\" Recall: \",Trecall,\" f1: \",TF1)\n",
    "#print(\"In Perceptron, For Test data. Accuracy: \",accuracy,\" Precision: \",Pprecision,\" Recall: \",Precall,\" f1: \",PF1)"
   ]
  },
  {
   "cell_type": "code",
   "execution_count": 79,
   "metadata": {},
   "outputs": [
    {
     "output_type": "stream",
     "name": "stdout",
     "text": [
      "SVM Train accuracy:  0.5703883495145631\nSVM Train accuracy:  0.9248461538461539\n"
     ]
    }
   ],
   "source": [
    "#SVM\n",
    "from sklearn import svm\n",
    "clfSVM=svm.LinearSVC(dual=False,fit_intercept=False)\n",
    "clfSVM.fit(xTrain,data_Train['our_tag'])\n",
    "acc=clfSVM.score(xTest,data_Test['our_tag'])\n",
    "Tacc=clfSVM.score(xTrain,data_Train['our_tag'])\n",
    "print(\"SVM Train accuracy: \", Tacc)\n",
    "\n",
    "print(\"SVM Test accuracy: \", acc)"
   ]
  },
  {
   "cell_type": "code",
   "execution_count": 86,
   "metadata": {},
   "outputs": [
    {
     "output_type": "stream",
     "name": "stdout",
     "text": [
      "logistic Train accuracy:  0.848\nlogistic Test accuracy:  0.6035598705501618\n"
     ]
    }
   ],
   "source": [
    "#logistic\n",
    "from sklearn.linear_model import LogisticRegression\n",
    "from sklearn.metrics import accuracy_score\n",
    "\n",
    "model = LogisticRegression(solver='liblinear',fit_intercept=False,C=4,tol=0.0001)\n",
    "model.fit(xTrain,data_Train['our_tag'])\n",
    "\n",
    "acc_train=model.score(xTrain,data_Train['our_tag'])\n",
    "\n",
    "print(\"logistic Train accuracy: \", acc_train)\n",
    "\n",
    "print(\"logistic Test accuracy: \",model.score(xTest,data_Test['our_tag']))"
   ]
  },
  {
   "cell_type": "code",
   "execution_count": 89,
   "metadata": {},
   "outputs": [
    {
     "output_type": "stream",
     "name": "stdout",
     "text": [
      "Naive bayes Test accuracy:  0.4749190938511327\n",
      "Naive bayes Train accuracy:  0.7858461538461539\n",
      "/opt/anaconda3/lib/python3.8/site-packages/sklearn/naive_bayes.py:511: UserWarning: alpha too small will result in numeric errors, setting alpha = 1.0e-10\n",
      "  warnings.warn('alpha too small will result in numeric errors, '\n"
     ]
    }
   ],
   "source": [
    "#Naive bayes\n",
    "\n",
    "from sklearn.naive_bayes import MultinomialNB\n",
    "clfNB=MultinomialNB(alpha=0)\n",
    "clfNB.fit(xTrain,data_Train['our_tag'])\n",
    "acc=clfNB.score(xTest,data_Test['our_tag'])\n",
    "\n",
    "accTrain=clfNB.score(xTrain,data_Train['our_tag'])\n",
    "\n",
    "print(\"Naive bayes Test accuracy: \",acc)\n",
    "\n",
    "print(\"Naive bayes Train accuracy: \",accTrain)"
   ]
  },
  {
   "cell_type": "code",
   "execution_count": 162,
   "metadata": {},
   "outputs": [
    {
     "output_type": "stream",
     "name": "stdout",
     "text": [
      "                                                                                                                                                    poem  \\\n0  [chaucer, dead, gower, lie, grave, earl, surrey, long, ago, gone, sir, philip, sidney, soul, heaven, george, gascoigne, tombed, stone, yet, though...   \n1                                                                                                   [future, see, whatever, future, bring, u, garateful]   \n2  [believe, fairy, could, fairy, really, exist, live, flower, garden, play, morning, mist, tend, nature, loving, healing, care, fly, forest, would, ...   \n3  [night, grown, cool, like, night, early, spring, quiet, speech, disturb, alone, reason, silence, see, gardenthe, full, moon, rise, see, next, full...   \n4  [serving, three, year, armed, robbery, mother, say, son, crim, one, robbed, uptown, drug, store, someone, else, cashier, mistook, son, told, guilt...   \n\n   our_tag  \n0        5  \n1        4  \n2        4  \n3        4  \n4        2  \n"
     ]
    }
   ],
   "source": [
    "#Word2Vec\n",
    "\n",
    "from gensim.test.utils import datapath\n",
    "from gensim import utils\n",
    "import gensim.models\n",
    "\n",
    "print(data_word2vec.head(5))\n",
    "\n",
    "sentences = data_word2vec['poem']\n",
    "\n",
    "model = gensim.models.Word2Vec(sentences=sentences,vector_size=300,window=5,min_count=10)"
   ]
  },
  {
   "cell_type": "code",
   "execution_count": 165,
   "metadata": {},
   "outputs": [
    {
     "output_type": "stream",
     "name": "stdout",
     "text": [
      "poem feature extration finished\n"
     ]
    }
   ],
   "source": [
    "weights=[]\n",
    "\n",
    "for rows in data_word2vec['poem']:\n",
    "  w=np.array([0]*300)\n",
    "  misC=0\n",
    "  for ele in rows:\n",
    "    try:\n",
    "      wordV=model.wv[ele]\n",
    "    except:\n",
    "      misC+=1\n",
    "      wordV=np.array([0]*300)\n",
    "    w=np.sum([w,wordV],axis=0).tolist()\n",
    "  if len(rows)!=0 and len(rows)!=misC:\n",
    "    weights.append(np.array([x/(len(rows)-misC) for x in w]))\n",
    "  else:\n",
    "    weights.append(np.array(w))\n",
    "\n",
    "print(\"poem feature extration finished\")"
   ]
  },
  {
   "cell_type": "code",
   "execution_count": 166,
   "metadata": {},
   "outputs": [
    {
     "output_type": "stream",
     "name": "stdout",
     "text": [
      "my own W2v for perceptor accuracy is :  0.436084142394822\n"
     ]
    }
   ],
   "source": [
    "\n",
    "from sklearn.linear_model import Perceptron\n",
    "\n",
    "#weightsD=pd.DataFrame(weights)\n",
    "\n",
    "\n",
    "weightsTrain=weights[:13000]\n",
    "weightsTest=weights[13000:]\n",
    "\n",
    "data_word2vec_train=data_word2vec[:13000]\n",
    "data_word2vec_test=data_word2vec[13000:]\n",
    "\n",
    "\n",
    "# own model\n",
    "clf=Perceptron(fit_intercept=False, shuffle=False)\n",
    "clf.fit(weightsTrain,data_word2vec_train['our_tag'])\n",
    "\n",
    "accuracy=clf.score(weightsTest,data_word2vec_test['our_tag'])\n",
    "print(\"my own W2v for perceptor accuracy is : \",accuracy)"
   ]
  },
  {
   "cell_type": "code",
   "execution_count": null,
   "metadata": {},
   "outputs": [],
   "source": []
  }
 ]
}